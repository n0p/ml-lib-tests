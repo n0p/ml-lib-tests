{
 "cells": [
  {
   "cell_type": "code",
   "execution_count": 1,
   "metadata": {},
   "outputs": [],
   "source": [
    "from micromlgen import port\n",
    "from sklearn.svm import SVC"
   ]
  },
  {
   "cell_type": "code",
   "execution_count": 2,
   "metadata": {},
   "outputs": [
    {
     "data": {
      "text/html": [
       "<div>\n",
       "<style scoped>\n",
       "    .dataframe tbody tr th:only-of-type {\n",
       "        vertical-align: middle;\n",
       "    }\n",
       "\n",
       "    .dataframe tbody tr th {\n",
       "        vertical-align: top;\n",
       "    }\n",
       "\n",
       "    .dataframe thead th {\n",
       "        text-align: right;\n",
       "    }\n",
       "</style>\n",
       "<table border=\"1\" class=\"dataframe\">\n",
       "  <thead>\n",
       "    <tr style=\"text-align: right;\">\n",
       "      <th></th>\n",
       "      <th>Battery</th>\n",
       "      <th>LoRaWAN_allowed</th>\n",
       "      <th>LoRaWAN_coverage</th>\n",
       "      <th>NBIoT_coverage</th>\n",
       "      <th>Packet_length</th>\n",
       "      <th>Urgency</th>\n",
       "      <th>Class</th>\n",
       "    </tr>\n",
       "  </thead>\n",
       "  <tbody>\n",
       "    <tr>\n",
       "      <th>0</th>\n",
       "      <td>12</td>\n",
       "      <td>1</td>\n",
       "      <td>29</td>\n",
       "      <td>62</td>\n",
       "      <td>455</td>\n",
       "      <td>89</td>\n",
       "      <td>NBIOT</td>\n",
       "    </tr>\n",
       "    <tr>\n",
       "      <th>1</th>\n",
       "      <td>47</td>\n",
       "      <td>0</td>\n",
       "      <td>71</td>\n",
       "      <td>25</td>\n",
       "      <td>216</td>\n",
       "      <td>27</td>\n",
       "      <td>NBIOT</td>\n",
       "    </tr>\n",
       "    <tr>\n",
       "      <th>2</th>\n",
       "      <td>15</td>\n",
       "      <td>0</td>\n",
       "      <td>98</td>\n",
       "      <td>59</td>\n",
       "      <td>463</td>\n",
       "      <td>50</td>\n",
       "      <td>NBIOT</td>\n",
       "    </tr>\n",
       "    <tr>\n",
       "      <th>3</th>\n",
       "      <td>63</td>\n",
       "      <td>0</td>\n",
       "      <td>19</td>\n",
       "      <td>29</td>\n",
       "      <td>135</td>\n",
       "      <td>55</td>\n",
       "      <td>NBIOT</td>\n",
       "    </tr>\n",
       "    <tr>\n",
       "      <th>4</th>\n",
       "      <td>30</td>\n",
       "      <td>1</td>\n",
       "      <td>31</td>\n",
       "      <td>80</td>\n",
       "      <td>230</td>\n",
       "      <td>18</td>\n",
       "      <td>LoRaWAN</td>\n",
       "    </tr>\n",
       "  </tbody>\n",
       "</table>\n",
       "</div>"
      ],
      "text/plain": [
       "   Battery  LoRaWAN_allowed  LoRaWAN_coverage  NBIoT_coverage  Packet_length  \\\n",
       "0       12                1                29              62            455   \n",
       "1       47                0                71              25            216   \n",
       "2       15                0                98              59            463   \n",
       "3       63                0                19              29            135   \n",
       "4       30                1                31              80            230   \n",
       "\n",
       "   Urgency    Class  \n",
       "0       89    NBIOT  \n",
       "1       27    NBIOT  \n",
       "2       50    NBIOT  \n",
       "3       55    NBIOT  \n",
       "4       18  LoRaWAN  "
      ]
     },
     "execution_count": 2,
     "metadata": {},
     "output_type": "execute_result"
    }
   ],
   "source": [
    "import pandas as pd\n",
    "cell_df = pd.read_csv(\"data_tinyml.csv\")\n",
    "cell_df.head()"
   ]
  },
  {
   "cell_type": "code",
   "execution_count": 3,
   "metadata": {},
   "outputs": [
    {
     "data": {
      "text/plain": [
       "array([[ 12,   1,  29,  62, 455,  89],\n",
       "       [ 47,   0,  71,  25, 216,  27],\n",
       "       [ 15,   0,  98,  59, 463,  50],\n",
       "       [ 63,   0,  19,  29, 135,  55],\n",
       "       [ 30,   1,  31,  80, 230,  18]], dtype=int64)"
      ]
     },
     "execution_count": 3,
     "metadata": {},
     "output_type": "execute_result"
    }
   ],
   "source": [
    "import numpy as np\n",
    "feature_df = cell_df[['Battery','LoRaWAN_allowed','LoRaWAN_coverage','NBIoT_coverage','Packet_length','Urgency']]\n",
    "X = np.asarray(feature_df)\n",
    "X[0:5]"
   ]
  },
  {
   "cell_type": "code",
   "execution_count": 4,
   "metadata": {},
   "outputs": [
    {
     "data": {
      "text/plain": [
       "array(['NBIOT', 'NBIOT', 'NBIOT', 'NBIOT', 'LoRaWAN'], dtype=object)"
      ]
     },
     "execution_count": 4,
     "metadata": {},
     "output_type": "execute_result"
    }
   ],
   "source": [
    "#cell_df['Class'] = cell_df['Class'].astype('int')\n",
    "y = np.asarray(cell_df['Class'])\n",
    "y [0:5]"
   ]
  },
  {
   "cell_type": "code",
   "execution_count": 5,
   "metadata": {},
   "outputs": [
    {
     "name": "stdout",
     "output_type": "stream",
     "text": [
      "Train set: (1250, 6) (1250,)\n",
      "Test set: (8750, 6) (8750,)\n"
     ]
    }
   ],
   "source": [
    "from sklearn import preprocessing\n",
    "from sklearn.model_selection import train_test_split\n",
    "\n",
    "X_train, X_test, y_train, y_test = train_test_split( X, y, test_size=0.875, random_state=4)\n",
    "print ('Train set:', X_train.shape,  y_train.shape)\n",
    "print ('Test set:', X_test.shape,  y_test.shape)"
   ]
  },
  {
   "cell_type": "code",
   "execution_count": 6,
   "metadata": {},
   "outputs": [
    {
     "name": "stdout",
     "output_type": "stream",
     "text": [
      "SVM:  0.7818285714285714\n"
     ]
    }
   ],
   "source": [
    "from micromlgen import port\n",
    "from sklearn.svm import SVC\n",
    "from sklearn.metrics import f1_score\n",
    "from sklearn import metrics\n",
    "import matplotlib.pyplot as plt\n",
    "\n",
    "\n",
    "clf = SVC(kernel='rbf', gamma=0.0001).fit(X_train, y_train)\n",
    "yhat = clf.predict(X_test)\n",
    "f1_score(y_test, yhat, average='weighted') \n",
    "print(\"SVM: \", metrics.accuracy_score(y_test, yhat))\n"
   ]
  },
  {
   "cell_type": "code",
   "execution_count": 7,
   "metadata": {},
   "outputs": [],
   "source": [
    "f = open(\"lib.h\", \"w\")\n",
    "f.write(port(clf,classmap={\n",
    "        0: 'LoRaWAN',\n",
    "        1: 'NBIoT',\n",
    "        2: 'DROP'\n",
    "    }))\n",
    "f.close()\n",
    "\n"
   ]
  },
  {
   "cell_type": "code",
   "execution_count": null,
   "metadata": {},
   "outputs": [],
   "source": []
  }
 ],
 "metadata": {
  "kernelspec": {
   "display_name": "Python 3",
   "language": "python",
   "name": "python3"
  },
  "language_info": {
   "codemirror_mode": {
    "name": "ipython",
    "version": 3
   },
   "file_extension": ".py",
   "mimetype": "text/x-python",
   "name": "python",
   "nbconvert_exporter": "python",
   "pygments_lexer": "ipython3",
   "version": "3.7.6"
  }
 },
 "nbformat": 4,
 "nbformat_minor": 4
}
