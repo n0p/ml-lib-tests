{
 "cells": [
  {
   "cell_type": "code",
   "execution_count": 2,
   "metadata": {},
   "outputs": [],
   "source": [
    "import numpy as np \n",
    "import pandas as pd\n",
    "from sklearn.ensemble import RandomForestClassifier"
   ]
  },
  {
   "cell_type": "code",
   "execution_count": 4,
   "metadata": {},
   "outputs": [
    {
     "data": {
      "text/html": [
       "<div>\n",
       "<style scoped>\n",
       "    .dataframe tbody tr th:only-of-type {\n",
       "        vertical-align: middle;\n",
       "    }\n",
       "\n",
       "    .dataframe tbody tr th {\n",
       "        vertical-align: top;\n",
       "    }\n",
       "\n",
       "    .dataframe thead th {\n",
       "        text-align: right;\n",
       "    }\n",
       "</style>\n",
       "<table border=\"1\" class=\"dataframe\">\n",
       "  <thead>\n",
       "    <tr style=\"text-align: right;\">\n",
       "      <th></th>\n",
       "      <th>Acc</th>\n",
       "      <th>Gyr</th>\n",
       "      <th>Label</th>\n",
       "    </tr>\n",
       "  </thead>\n",
       "  <tbody>\n",
       "    <tr>\n",
       "      <th>0</th>\n",
       "      <td>0.002003</td>\n",
       "      <td>0.000001</td>\n",
       "      <td>Ride</td>\n",
       "    </tr>\n",
       "    <tr>\n",
       "      <th>1</th>\n",
       "      <td>0.000587</td>\n",
       "      <td>0.000005</td>\n",
       "      <td>Ride</td>\n",
       "    </tr>\n",
       "    <tr>\n",
       "      <th>2</th>\n",
       "      <td>0.002355</td>\n",
       "      <td>0.000007</td>\n",
       "      <td>Ride</td>\n",
       "    </tr>\n",
       "    <tr>\n",
       "      <th>3</th>\n",
       "      <td>0.001087</td>\n",
       "      <td>0.000007</td>\n",
       "      <td>Ride</td>\n",
       "    </tr>\n",
       "    <tr>\n",
       "      <th>4</th>\n",
       "      <td>0.001200</td>\n",
       "      <td>0.000006</td>\n",
       "      <td>Ride</td>\n",
       "    </tr>\n",
       "  </tbody>\n",
       "</table>\n",
       "</div>"
      ],
      "text/plain": [
       "        Acc       Gyr Label\n",
       "0  0.002003  0.000001  Ride\n",
       "1  0.000587  0.000005  Ride\n",
       "2  0.002355  0.000007  Ride\n",
       "3  0.001087  0.000007  Ride\n",
       "4  0.001200  0.000006  Ride"
      ]
     },
     "execution_count": 4,
     "metadata": {},
     "output_type": "execute_result"
    }
   ],
   "source": [
    "import pandas as pd\n",
    "cell_df = pd.read_csv(\"../ride.csv\",sep=\";\")\n",
    "cell_df.head()"
   ]
  },
  {
   "cell_type": "code",
   "execution_count": 5,
   "metadata": {},
   "outputs": [
    {
     "data": {
      "text/plain": [
       "array([[2.003010e-03, 1.157000e-06],\n",
       "       [5.874080e-04, 4.720900e-06],\n",
       "       [2.355061e-03, 6.840900e-06],\n",
       "       [1.086873e-03, 7.090700e-06],\n",
       "       [1.200024e-03, 6.067700e-06]])"
      ]
     },
     "execution_count": 5,
     "metadata": {},
     "output_type": "execute_result"
    }
   ],
   "source": [
    "import numpy as np\n",
    "feature_df = cell_df[['Acc','Gyr']]\n",
    "X = np.asarray(feature_df)\n",
    "X[0:5]"
   ]
  },
  {
   "cell_type": "code",
   "execution_count": 6,
   "metadata": {},
   "outputs": [
    {
     "data": {
      "text/plain": [
       "array(['Ride', 'Ride', 'Ride', 'Ride', 'Ride'], dtype=object)"
      ]
     },
     "execution_count": 6,
     "metadata": {},
     "output_type": "execute_result"
    }
   ],
   "source": [
    "#cell_df['Class'] = cell_df['Class'].astype('int')\n",
    "y = np.asarray(cell_df['Label'])\n",
    "y [0:5]"
   ]
  },
  {
   "cell_type": "code",
   "execution_count": 8,
   "metadata": {},
   "outputs": [
    {
     "name": "stdout",
     "output_type": "stream",
     "text": [
      "Train set: (653, 2) (653,)\n",
      "Test set: (164, 2) (164,)\n"
     ]
    }
   ],
   "source": [
    "from sklearn import preprocessing\n",
    "from sklearn.model_selection import train_test_split\n",
    "\n",
    "X_train, X_test, y_train, y_test = train_test_split( X, y, test_size=0.2, random_state=4,stratify=y)\n",
    "print ('Train set:', X_train.shape,  y_train.shape)\n",
    "print ('Test set:', X_test.shape,  y_test.shape)"
   ]
  },
  {
   "cell_type": "code",
   "execution_count": 9,
   "metadata": {},
   "outputs": [],
   "source": [
    "DecTree = RandomForestClassifier(n_estimators=10)\n",
    "DecTree # it shows the default parameters\n",
    "DecTree.fit(X_train,y_train)\n",
    "\n",
    "y_hat = DecTree.predict(X_test)"
   ]
  },
  {
   "cell_type": "code",
   "execution_count": 11,
   "metadata": {},
   "outputs": [
    {
     "name": "stdout",
     "output_type": "stream",
     "text": [
      "DecisionTrees's Accuracy:  1.0\n",
      "DecisionTrees's f1:  1.0\n"
     ]
    },
    {
     "data": {
      "text/plain": [
       "array([[  1,   0],\n",
       "       [  0, 163]], dtype=int64)"
      ]
     },
     "execution_count": 11,
     "metadata": {},
     "output_type": "execute_result"
    }
   ],
   "source": [
    "from sklearn import metrics\n",
    "import matplotlib.pyplot as plt\n",
    "from sklearn.metrics import f1_score\n",
    "from sklearn.metrics import confusion_matrix\n",
    "\n",
    "\n",
    "\n",
    "print(\"DecisionTrees's Accuracy: \", metrics.accuracy_score(y_test, y_hat))\n",
    "print(\"DecisionTrees's f1: \", f1_score(y_test, y_hat, average='weighted'))\n",
    "confusion_matrix(y_test, y_hat)\n",
    "\n"
   ]
  },
  {
   "cell_type": "code",
   "execution_count": 12,
   "metadata": {},
   "outputs": [
    {
     "data": {
      "text/plain": [
       "'\\n    // !!! This file is generated using emlearn !!!\\n\\n    #include <eml_trees.h>\\n    \\n\\nEmlTreesNode lib_nodes[17] = {\\n  { 1, 8.982545852661133, 1, 2 },\\n  { -1, 1, -1, -1 },\\n  { -1, 0, -1, -1 },\\n  { 0, 650.0196113586426, 1, 2 },\\n  { 1, 8.94518931210041, 1, 2 },\\n  { 0, 634.5537300109863, 6, 2 },\\n  { 0, 62.438703536987305, 1, 7 },\\n  { 0, 68.62764358520508, 2, 1 },\\n  { 0, 644.4616813659668, 1, 2 },\\n  { 0, 650.0196113586426, 1, 2 },\\n  { 0, 628.9958000183105, 1, 2 },\\n  { 0, 686.4694023132324, 1, 2 },\\n  { 0, 650.0196113586426, 13, 2 },\\n  { 1, 0.8776607662439346, 1, 2 },\\n  { 0, 634.5537300109863, 15, 2 },\\n  { 0, 65.29286003112793, 1, 16 },\\n  { 0, 72.48793029785156, 2, 1 } \\n};\\n\\nint32_t lib_tree_roots[10] = { 0, 3, 4, 5, 8, 9, 10, 11, 12, 14 };\\n\\nEmlTrees lib = {\\n        17,\\n        lib_nodes,\\t  \\n        10,\\n        lib_tree_roots,\\n    };\\n\\nstatic inline int32_t lib_predict_tree_0(const float *features, int32_t features_length) {\\n          if (features[1] < 8.982545852661133) {\\n              return 1;\\n          } else {\\n              return 0;\\n          }\\n        }\\n        \\n\\nstatic inline int32_t lib_predict_tree_1(const float *features, int32_t features_length) {\\n          if (features[0] < 650.0196113586426) {\\n              return 1;\\n          } else {\\n              return 0;\\n          }\\n        }\\n        \\n\\nstatic inline int32_t lib_predict_tree_2(const float *features, int32_t features_length) {\\n          if (features[1] < 8.94518931210041) {\\n              return 1;\\n          } else {\\n              return 0;\\n          }\\n        }\\n        \\n\\nstatic inline int32_t lib_predict_tree_3(const float *features, int32_t features_length) {\\n          if (features[0] < 634.5537300109863) {\\n              if (features[0] < 62.438703536987305) {\\n                  return 1;\\n              } else {\\n                  if (features[0] < 68.62764358520508) {\\n                      return 0;\\n                  } else {\\n                      return 1;\\n                  }\\n              }\\n          } else {\\n              return 0;\\n          }\\n        }\\n        \\n\\nstatic inline int32_t lib_predict_tree_4(const float *features, int32_t features_length) {\\n          if (features[0] < 644.4616813659668) {\\n              return 1;\\n          } else {\\n              return 0;\\n          }\\n        }\\n        \\n\\nstatic inline int32_t lib_predict_tree_5(const float *features, int32_t features_length) {\\n          if (features[0] < 650.0196113586426) {\\n              return 1;\\n          } else {\\n              return 0;\\n          }\\n        }\\n        \\n\\nstatic inline int32_t lib_predict_tree_6(const float *features, int32_t features_length) {\\n          if (features[0] < 628.9958000183105) {\\n              return 1;\\n          } else {\\n              return 0;\\n          }\\n        }\\n        \\n\\nstatic inline int32_t lib_predict_tree_7(const float *features, int32_t features_length) {\\n          if (features[0] < 686.4694023132324) {\\n              return 1;\\n          } else {\\n              return 0;\\n          }\\n        }\\n        \\n\\nstatic inline int32_t lib_predict_tree_8(const float *features, int32_t features_length) {\\n          if (features[0] < 650.0196113586426) {\\n              if (features[1] < 0.8776607662439346) {\\n                  return 1;\\n              } else {\\n                  return 0;\\n              }\\n          } else {\\n              return 0;\\n          }\\n        }\\n        \\n\\nstatic inline int32_t lib_predict_tree_9(const float *features, int32_t features_length) {\\n          if (features[0] < 634.5537300109863) {\\n              if (features[0] < 65.29286003112793) {\\n                  return 1;\\n              } else {\\n                  if (features[0] < 72.48793029785156) {\\n                      return 0;\\n                  } else {\\n                      return 1;\\n                  }\\n              }\\n          } else {\\n              return 0;\\n          }\\n        }\\n        \\n\\nint32_t lib_predict(const float *features, int32_t features_length) {\\n\\n        int32_t votes[2] = {0,};\\n        int32_t _class = -1;\\n\\n        _class = lib_predict_tree_0(features, features_length); votes[_class] += 1;\\n    _class = lib_predict_tree_1(features, features_length); votes[_class] += 1;\\n    _class = lib_predict_tree_2(features, features_length); votes[_class] += 1;\\n    _class = lib_predict_tree_3(features, features_length); votes[_class] += 1;\\n    _class = lib_predict_tree_4(features, features_length); votes[_class] += 1;\\n    _class = lib_predict_tree_5(features, features_length); votes[_class] += 1;\\n    _class = lib_predict_tree_6(features, features_length); votes[_class] += 1;\\n    _class = lib_predict_tree_7(features, features_length); votes[_class] += 1;\\n    _class = lib_predict_tree_8(features, features_length); votes[_class] += 1;\\n    _class = lib_predict_tree_9(features, features_length); votes[_class] += 1;\\n    \\n        int32_t most_voted_class = -1;\\n        int32_t most_voted_votes = 0;\\n        for (int32_t i=0; i<2; i++) {\\n\\n            if (votes[i] > most_voted_votes) {\\n                most_voted_class = i;\\n                most_voted_votes = votes[i];\\n            }\\n        }\\n        return most_voted_class;\\n    }\\n    '"
      ]
     },
     "execution_count": 12,
     "metadata": {},
     "output_type": "execute_result"
    }
   ],
   "source": [
    "import emlearn\n",
    "cmodel = emlearn.convert(DecTree, method='inline')\n",
    "cmodel.save(file='lib.h')"
   ]
  },
  {
   "cell_type": "code",
   "execution_count": null,
   "metadata": {},
   "outputs": [],
   "source": []
  },
  {
   "cell_type": "code",
   "execution_count": null,
   "metadata": {},
   "outputs": [],
   "source": []
  },
  {
   "cell_type": "code",
   "execution_count": null,
   "metadata": {},
   "outputs": [],
   "source": []
  },
  {
   "cell_type": "code",
   "execution_count": null,
   "metadata": {},
   "outputs": [],
   "source": []
  }
 ],
 "metadata": {
  "kernelspec": {
   "name": "pycharm-4529b98e",
   "language": "python",
   "display_name": "PyCharm (TinyML)"
  },
  "language_info": {
   "codemirror_mode": {
    "name": "ipython",
    "version": 3
   },
   "file_extension": ".py",
   "mimetype": "text/x-python",
   "name": "python",
   "nbconvert_exporter": "python",
   "pygments_lexer": "ipython3",
   "version": "3.7.6"
  },
  "pycharm": {
   "stem_cell": {
    "cell_type": "raw",
    "source": [],
    "metadata": {
     "collapsed": false
    }
   }
  }
 },
 "nbformat": 4,
 "nbformat_minor": 4
}