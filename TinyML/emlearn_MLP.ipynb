{
 "cells": [
  {
   "cell_type": "code",
   "execution_count": 1,
   "metadata": {},
   "outputs": [],
   "source": [
    "import numpy as np \n",
    "import pandas as pd\n",
    "from sklearn.neural_network import MLPClassifier"
   ]
  },
  {
   "cell_type": "code",
   "execution_count": 2,
   "metadata": {},
   "outputs": [
    {
     "data": {
      "text/plain": "        Acc       Gyr Label\n0  0.002003  0.000001  Ride\n1  0.000587  0.000005  Ride\n2  0.002355  0.000007  Ride\n3  0.001087  0.000007  Ride\n4  0.001200  0.000006  Ride",
      "text/html": "<div>\n<style scoped>\n    .dataframe tbody tr th:only-of-type {\n        vertical-align: middle;\n    }\n\n    .dataframe tbody tr th {\n        vertical-align: top;\n    }\n\n    .dataframe thead th {\n        text-align: right;\n    }\n</style>\n<table border=\"1\" class=\"dataframe\">\n  <thead>\n    <tr style=\"text-align: right;\">\n      <th></th>\n      <th>Acc</th>\n      <th>Gyr</th>\n      <th>Label</th>\n    </tr>\n  </thead>\n  <tbody>\n    <tr>\n      <th>0</th>\n      <td>0.002003</td>\n      <td>0.000001</td>\n      <td>Ride</td>\n    </tr>\n    <tr>\n      <th>1</th>\n      <td>0.000587</td>\n      <td>0.000005</td>\n      <td>Ride</td>\n    </tr>\n    <tr>\n      <th>2</th>\n      <td>0.002355</td>\n      <td>0.000007</td>\n      <td>Ride</td>\n    </tr>\n    <tr>\n      <th>3</th>\n      <td>0.001087</td>\n      <td>0.000007</td>\n      <td>Ride</td>\n    </tr>\n    <tr>\n      <th>4</th>\n      <td>0.001200</td>\n      <td>0.000006</td>\n      <td>Ride</td>\n    </tr>\n  </tbody>\n</table>\n</div>"
     },
     "execution_count": 2,
     "metadata": {},
     "output_type": "execute_result"
    }
   ],
   "source": [
    "import pandas as pd\n",
    "cell_df = pd.read_csv(\"../Ride.csv\",sep=\";\")\n",
    "cell_df.head()"
   ]
  },
  {
   "cell_type": "code",
   "execution_count": 3,
   "metadata": {},
   "outputs": [
    {
     "data": {
      "text/plain": "array([[2.003010e-03, 1.157000e-06],\n       [5.874080e-04, 4.720900e-06],\n       [2.355061e-03, 6.840900e-06],\n       [1.086873e-03, 7.090700e-06],\n       [1.200024e-03, 6.067700e-06]])"
     },
     "execution_count": 3,
     "metadata": {},
     "output_type": "execute_result"
    }
   ],
   "source": [
    "import numpy as np\n",
    "feature_df = cell_df[['Acc','Gyr']]\n",
    "X = np.asarray(feature_df)\n",
    "X[0:5]"
   ]
  },
  {
   "cell_type": "code",
   "execution_count": 4,
   "metadata": {},
   "outputs": [
    {
     "data": {
      "text/plain": "array(['Ride', 'Ride', 'Ride', 'Ride', 'Ride'], dtype=object)"
     },
     "execution_count": 4,
     "metadata": {},
     "output_type": "execute_result"
    }
   ],
   "source": [
    "#cell_df['Class'] = cell_df['Class'].astype('int')\n",
    "y = np.asarray(cell_df['Label'])\n",
    "y [0:5]"
   ]
  },
  {
   "cell_type": "code",
   "execution_count": 5,
   "metadata": {},
   "outputs": [
    {
     "name": "stdout",
     "output_type": "stream",
     "text": [
      "Train set: (653, 2) (653,)\n",
      "Test set: (164, 2) (164,)\n"
     ]
    }
   ],
   "source": [
    "from sklearn import preprocessing\n",
    "from sklearn.model_selection import train_test_split\n",
    "\n",
    "X_train, X_test, y_train, y_test = train_test_split( X, y, test_size=0.2, random_state=4,stratify=y)\n",
    "print ('Train set:', X_train.shape,  y_train.shape)\n",
    "print ('Test set:', X_test.shape,  y_test.shape)"
   ]
  },
  {
   "cell_type": "code",
   "execution_count": 6,
   "metadata": {},
   "outputs": [],
   "source": [
    "clf = MLPClassifier(hidden_layer_sizes=(5,5),activation='tanh', max_iter=1000)\n",
    "clf.fit(X_train,y_train)\n",
    "\n",
    "y_hat = clf.predict(X_test)"
   ]
  },
  {
   "cell_type": "code",
   "execution_count": 7,
   "metadata": {},
   "outputs": [
    {
     "name": "stdout",
     "output_type": "stream",
     "text": [
      "MLP' Accuracy:  0.9939024390243902\n",
      "MLP' f1:  0.9908629820243157\n"
     ]
    },
    {
     "data": {
      "text/plain": "array([[  0,   1],\n       [  0, 163]])"
     },
     "execution_count": 7,
     "metadata": {},
     "output_type": "execute_result"
    }
   ],
   "source": [
    "from sklearn import metrics\n",
    "import matplotlib.pyplot as plt\n",
    "from sklearn.metrics import f1_score\n",
    "from sklearn.metrics import confusion_matrix\n",
    "\n",
    "\n",
    "print(\"MLP' Accuracy: \", metrics.accuracy_score(y_test, y_hat))\n",
    "print(\"MLP' f1: \", f1_score(y_test, y_hat, average='weighted'))\n",
    "confusion_matrix(y_test, y_hat)\n"
   ]
  },
  {
   "cell_type": "code",
   "execution_count": 8,
   "metadata": {},
   "outputs": [
    {
     "data": {
      "text/plain": "'#include <eml_net.h>\\nstatic const float MLP-5-5-tanh-lib_layer0_weights[10] = { 1.091450f, -0.843742f, -0.396469f, 0.015384f, -0.175114f, -0.461920f, -0.383584f, -0.274221f, -0.068327f, 0.526803f };\\nstatic const float MLP-5-5-tanh-lib_layer0_biases[5] = { 1.107484f, -0.750791f, 0.217300f, -1.448808f, -0.309074f };\\nstatic const float MLP-5-5-tanh-lib_layer1_weights[25] = { -0.046464f, 0.295167f, 0.738038f, -0.607131f, -0.858113f, -0.239489f, -0.790089f, -0.004144f, -0.145220f, -0.219497f, -1.166732f, 0.325787f, -0.170643f, 0.048589f, -0.667816f, 0.625602f, -0.813155f, 0.060615f, 1.257907f, 0.220289f, 0.668931f, -0.007793f, 0.212379f, -0.050935f, 0.539164f };\\nstatic const float MLP-5-5-tanh-lib_layer1_biases[5] = { -0.941699f, -0.360542f, 1.082410f, 0.268559f, -1.037443f };\\nstatic const float MLP-5-5-tanh-lib_layer2_weights[5] = { -0.960698f, 1.025576f, 1.071823f, -1.097265f, -0.737304f };\\nstatic const float MLP-5-5-tanh-lib_layer2_biases[1] = { 0.027731f };\\nstatic float MLP-5-5-tanh-lib_buf1[5];\\nstatic float MLP-5-5-tanh-lib_buf2[5];\\nstatic const EmlNetLayer MLP-5-5-tanh-lib_layers[3] = { \\n{ 5, 2, MLP-5-5-tanh-lib_layer0_weights, MLP-5-5-tanh-lib_layer0_biases, EmlNetActivationTanh }, \\n{ 5, 5, MLP-5-5-tanh-lib_layer1_weights, MLP-5-5-tanh-lib_layer1_biases, EmlNetActivationTanh }, \\n{ 1, 5, MLP-5-5-tanh-lib_layer2_weights, MLP-5-5-tanh-lib_layer2_biases, EmlNetActivationLogistic } };\\nstatic EmlNet MLP-5-5-tanh-lib = { 3, MLP-5-5-tanh-lib_layers, MLP-5-5-tanh-lib_buf1, MLP-5-5-tanh-lib_buf2, 5 };'"
     },
     "execution_count": 8,
     "metadata": {},
     "output_type": "execute_result"
    }
   ],
   "source": [
    "import emlearn\n",
    "cmodel = emlearn.convert(clf)\n",
    "cmodel.save(file='../output/MLP-5-5-tanh-lib.h')"
   ]
  },
  {
   "cell_type": "code",
   "execution_count": 8,
   "metadata": {},
   "outputs": [],
   "source": []
  },
  {
   "cell_type": "code",
   "execution_count": 8,
   "metadata": {},
   "outputs": [],
   "source": []
  }
 ],
 "metadata": {
  "kernelspec": {
   "name": "python3",
   "language": "python",
   "display_name": "Python 3"
  },
  "language_info": {
   "codemirror_mode": {
    "name": "ipython",
    "version": 3
   },
   "file_extension": ".py",
   "mimetype": "text/x-python",
   "name": "python",
   "nbconvert_exporter": "python",
   "pygments_lexer": "ipython3",
   "version": "3.8.3"
  }
 },
 "nbformat": 4,
 "nbformat_minor": 4
}